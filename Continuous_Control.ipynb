{
 "cells": [
  {
   "cell_type": "markdown",
   "metadata": {},
   "source": [
    "# Continuous Control\n",
    "\n",
    "---\n",
    "\n",
    "You are welcome to use this coding environment to train your agent for the project.  Follow the instructions below to get started!\n",
    "\n",
    "### 1. Start the Environment\n",
    "\n",
    "Run the next code cell to install a few packages.  This line will take a few minutes to run!"
   ]
  },
  {
   "cell_type": "code",
   "execution_count": 1,
   "metadata": {},
   "outputs": [
    {
     "name": "stdout",
     "output_type": "stream",
     "text": [
      "\u001b[31mtensorflow 1.7.1 has requirement numpy>=1.13.3, but you'll have numpy 1.12.1 which is incompatible.\u001b[0m\r\n",
      "\u001b[31mipython 6.5.0 has requirement prompt-toolkit<2.0.0,>=1.0.15, but you'll have prompt-toolkit 3.0.5 which is incompatible.\u001b[0m\r\n"
     ]
    }
   ],
   "source": [
    "!pip -q install ./python"
   ]
  },
  {
   "cell_type": "markdown",
   "metadata": {},
   "source": [
    "The environments corresponding to both versions of the environment are already saved in the Workspace and can be accessed at the file paths provided below.  \n",
    "\n",
    "Please select one of the two options below for loading the environment."
   ]
  },
  {
   "cell_type": "code",
   "execution_count": 2,
   "metadata": {},
   "outputs": [
    {
     "name": "stderr",
     "output_type": "stream",
     "text": [
      "INFO:unityagents:\n",
      "'Academy' started successfully!\n",
      "Unity Academy name: Academy\n",
      "        Number of Brains: 1\n",
      "        Number of External Brains : 1\n",
      "        Lesson number : 0\n",
      "        Reset Parameters :\n",
      "\t\tgoal_speed -> 1.0\n",
      "\t\tgoal_size -> 5.0\n",
      "Unity brain name: ReacherBrain\n",
      "        Number of Visual Observations (per agent): 0\n",
      "        Vector Observation space type: continuous\n",
      "        Vector Observation space size (per agent): 33\n",
      "        Number of stacked Vector Observation: 1\n",
      "        Vector Action space type: continuous\n",
      "        Vector Action space size (per agent): 4\n",
      "        Vector Action descriptions: , , , \n"
     ]
    }
   ],
   "source": [
    "from unityagents import UnityEnvironment\n",
    "import numpy as np\n",
    "\n",
    "# select this option to load version 1 (with a single agent) of the environment\n",
    "# env = UnityEnvironment(file_name='/data/Reacher_One_Linux_NoVis/Reacher_One_Linux_NoVis.x86_64')\n",
    "\n",
    "# select this option to load version 2 (with 20 agents) of the environment\n",
    "env = UnityEnvironment(file_name='/data/Reacher_Linux_NoVis/Reacher.x86_64')"
   ]
  },
  {
   "cell_type": "markdown",
   "metadata": {},
   "source": [
    "Environments contain **_brains_** which are responsible for deciding the actions of their associated agents. Here we check for the first brain available, and set it as the default brain we will be controlling from Python."
   ]
  },
  {
   "cell_type": "code",
   "execution_count": 3,
   "metadata": {},
   "outputs": [
    {
     "name": "stdout",
     "output_type": "stream",
     "text": [
      "env.brain_names:  ['ReacherBrain']\n"
     ]
    }
   ],
   "source": [
    "# get the default brain\n",
    "brain_name = env.brain_names[0]\n",
    "brain = env.brains[brain_name]\n",
    "print('env.brain_names: ', env.brain_names)"
   ]
  },
  {
   "cell_type": "markdown",
   "metadata": {},
   "source": [
    "### 2. Examine the State and Action Spaces\n",
    "\n",
    "Run the code cell below to print some information about the environment."
   ]
  },
  {
   "cell_type": "code",
   "execution_count": 4,
   "metadata": {},
   "outputs": [
    {
     "name": "stdout",
     "output_type": "stream",
     "text": [
      "Number of agents: 20\n",
      "Size of each action: 4\n",
      "There are 20 agents. Each observes a state with length: 33\n",
      "The state for the first agent looks like: [  0.00000000e+00  -4.00000000e+00   0.00000000e+00   1.00000000e+00\n",
      "  -0.00000000e+00  -0.00000000e+00  -4.37113883e-08   0.00000000e+00\n",
      "   0.00000000e+00   0.00000000e+00   0.00000000e+00   0.00000000e+00\n",
      "   0.00000000e+00   0.00000000e+00  -1.00000000e+01   0.00000000e+00\n",
      "   1.00000000e+00  -0.00000000e+00  -0.00000000e+00  -4.37113883e-08\n",
      "   0.00000000e+00   0.00000000e+00   0.00000000e+00   0.00000000e+00\n",
      "   0.00000000e+00   0.00000000e+00   5.75471878e+00  -1.00000000e+00\n",
      "   5.55726624e+00   0.00000000e+00   1.00000000e+00   0.00000000e+00\n",
      "  -1.68164849e-01]\n"
     ]
    }
   ],
   "source": [
    "# reset the environment\n",
    "env_info = env.reset(train_mode=True)[brain_name]\n",
    "\n",
    "# number of agents\n",
    "num_agents = len(env_info.agents)\n",
    "print('Number of agents:', num_agents)\n",
    "\n",
    "# size of each action\n",
    "action_size = brain.vector_action_space_size\n",
    "print('Size of each action:', action_size)\n",
    "\n",
    "# examine the state space \n",
    "states = env_info.vector_observations\n",
    "state_size = states.shape[1]\n",
    "print('There are {} agents. Each observes a state with length: {}'.format(states.shape[0], state_size))\n",
    "print('The state for the first agent looks like:', states[0])"
   ]
  },
  {
   "cell_type": "markdown",
   "metadata": {},
   "source": [
    "### 3. Take Random Actions in the Environment\n",
    "\n",
    "In the next code cell, you will learn how to use the Python API to control the agent and receive feedback from the environment.\n",
    "\n",
    "Note that **in this coding environment, you will not be able to watch the agents while they are training**, and you should set `train_mode=True` to restart the environment."
   ]
  },
  {
   "cell_type": "code",
   "execution_count": 5,
   "metadata": {},
   "outputs": [
    {
     "name": "stdout",
     "output_type": "stream",
     "text": [
      "Total score (averaged over agents) this episode: 0.08349999813362956\n"
     ]
    }
   ],
   "source": [
    "env_info = env.reset(train_mode=True)[brain_name]      # reset the environment    \n",
    "states = env_info.vector_observations                  # get the current state (for each agent)\n",
    "scores = np.zeros(num_agents)                          # initialize the score (for each agent)\n",
    "while True:\n",
    "    actions = np.random.randn(num_agents, action_size) # select an action (for each agent)\n",
    "    actions = np.clip(actions, -1, 1)                  # all actions between -1 and 1\n",
    "    env_info = env.step(actions)[brain_name]           # send all actions to tne environment\n",
    "    next_states = env_info.vector_observations         # get next state (for each agent)\n",
    "    rewards = env_info.rewards                         # get reward (for each agent)\n",
    "    dones = env_info.local_done                        # see if episode finished\n",
    "    scores += env_info.rewards                         # update the score (for each agent)\n",
    "    states = next_states                               # roll over states to next time step\n",
    "    if np.any(dones):                                  # exit loop if episode finished\n",
    "        break\n",
    "print('Total score (averaged over agents) this episode: {}'.format(np.mean(scores)))"
   ]
  },
  {
   "cell_type": "markdown",
   "metadata": {},
   "source": [
    "When finished, you can close the environment."
   ]
  },
  {
   "cell_type": "code",
   "execution_count": 6,
   "metadata": {},
   "outputs": [],
   "source": [
    "#env.close()"
   ]
  },
  {
   "cell_type": "markdown",
   "metadata": {},
   "source": [
    "### 4. It's Your Turn!\n",
    "\n",
    "Now it's your turn to train your own agent to solve the environment!  A few **important notes**:\n",
    "- When training the environment, set `train_mode=True`, so that the line for resetting the environment looks like the following:\n",
    "```python\n",
    "env_info = env.reset(train_mode=True)[brain_name]\n",
    "```\n",
    "- To structure your work, you're welcome to work directly in this Jupyter notebook, or you might like to start over with a new file!  You can see the list of files in the workspace by clicking on **_Jupyter_** in the top left corner of the notebook.\n",
    "- In this coding environment, you will not be able to watch the agents while they are training.  However, **_after training the agents_**, you can download the saved model weights to watch the agents on your own machine! "
   ]
  },
  {
   "cell_type": "code",
   "execution_count": 7,
   "metadata": {},
   "outputs": [],
   "source": [
    "from collections import deque\n",
    "import random\n",
    "import torch\n",
    "import numpy as np\n",
    "import matplotlib.pyplot as plt\n",
    "%matplotlib inline"
   ]
  },
  {
   "cell_type": "code",
   "execution_count": 8,
   "metadata": {},
   "outputs": [],
   "source": [
    "import importlib\n",
    "from ddpg_agent import Agent"
   ]
  },
  {
   "cell_type": "code",
   "execution_count": 10,
   "metadata": {},
   "outputs": [],
   "source": [
    "import pandas as pd\n",
    "import datetime "
   ]
  },
  {
   "cell_type": "code",
   "execution_count": 12,
   "metadata": {
    "scrolled": true
   },
   "outputs": [],
   "source": [
    "def ddpg(n_episodes=400, max_t=1000 ,print_every=1):\n",
    "    consec_episodes = 100\n",
    "    score_solved= 30\n",
    "    train_mode = True\n",
    "    \n",
    "    #fc_tnodes\n",
    "    #fc1_units=300\n",
    "    #fc2_units=300\n",
    "    \n",
    "    min_sc = []\n",
    "    max_sc = []\n",
    "    mean_sc= []\n",
    "    sc_last = deque(maxlen=consec_episodes)\n",
    "    avg_sc_last_episodes = []\n",
    "    dfscores_episode = pd.DataFrame()\n",
    "    best_score = -1\n",
    "\n",
    "    for i_episode in range(1, n_episodes+1):\n",
    "        scores = np.zeros(num_agents)\n",
    "        env_info = env.reset(train_mode=train_mode)[brain_name]\n",
    "        agent.reset()\n",
    "        states = env_info.vector_observations\n",
    "        rewards = env_info.rewards\n",
    "        for t in range(max_t):\n",
    "            actions = agent.act(states)\n",
    "            env_info = env.step(actions)[brain_name]\n",
    "            next_states = env_info.vector_observations\n",
    "            rewards = env_info.rewards\n",
    "            dones = env_info.local_done\n",
    "            for state, action, reward, next_state, done in zip(states, actions, rewards, next_states, dones):\n",
    "                agent.step(state, action, reward, next_state, done, t)\n",
    "            states = next_states\n",
    "            scores += rewards\n",
    "            if np.any(dones):\n",
    "                break \n",
    "        \n",
    "        mean_sc.append(np.mean(scores))\n",
    "        min_sc.append(np.min(scores)) \n",
    "        max_sc.append(np.max(scores))\n",
    "        sc_last.append(mean_sc[-1])\n",
    "        avg_sc_last_episodes.append(np.mean(sc_last))\n",
    "\n",
    "        dfscores_episode = dfscores_episode.append({'episode': i_episode,'min': np.min(scores), 'max': np.max(scores),\\\n",
    "                                                    'mean': np.mean(scores)}, ignore_index=True)\n",
    "        \n",
    "        if i_episode % print_every == 0:\n",
    "            print('\\rEpisode {} \\tmin: {:.2f}\\tmax: {:.2f}\\tmean: {:.2f}\\tavg: {:.2f}'.format(\\\n",
    "                  i_episode, min_sc[-1], max_sc[-1], mean_sc[-1], avg_sc_last_episodes[-1]))\n",
    "            dfscores_episode.to_csv('logscores_at_'+rundates+'.csv',index=False)\n",
    "        \n",
    "        if train_mode and mean_sc[-1] > best_score:\n",
    "            torch.save(agent.actor_local.state_dict(), 'best_actor.pth')\n",
    "            torch.save(agent.critic_local.state_dict(), 'best_critic.pth')\n",
    "            best_score = mean_sc[-1]\n",
    "\n",
    "        if avg_sc_last_episodes[-1] >= score_solved and i_episode >= consec_episodes:\n",
    "            print('\\nsolved in {} episodes!'.format(i_episode))\n",
    "            if train_mode:\n",
    "                torch.save(agent.actor_local.state_dict(), 'last_actor.pth')\n",
    "                torch.save(agent.critic_local.state_dict(), 'last_critic.pth')\n",
    "            break\n",
    "                   \n",
    "    #return dfscores_episode\n",
    "    return mean_sc, avg_sc_last_episodes, dfscores_episode\n",
    "    "
   ]
  },
  {
   "cell_type": "code",
   "execution_count": 13,
   "metadata": {
    "scrolled": true
   },
   "outputs": [
    {
     "name": "stdout",
     "output_type": "stream",
     "text": [
      "Episode 1 \tmin: 0.00\tmax: 1.69\tmean: 0.72\tavg: 0.72\n",
      "Episode 2 \tmin: 0.59\tmax: 2.94\tmean: 1.54\tavg: 1.13\n",
      "Episode 3 \tmin: 1.18\tmax: 4.05\tmean: 2.65\tavg: 1.63\n",
      "Episode 4 \tmin: 0.89\tmax: 4.12\tmean: 2.80\tavg: 1.93\n",
      "Episode 5 \tmin: 0.91\tmax: 6.74\tmean: 2.81\tavg: 2.10\n",
      "Episode 6 \tmin: 0.75\tmax: 6.78\tmean: 3.77\tavg: 2.38\n",
      "Episode 7 \tmin: 2.68\tmax: 7.76\tmean: 4.63\tavg: 2.70\n",
      "Episode 8 \tmin: 3.04\tmax: 8.09\tmean: 5.70\tavg: 3.08\n",
      "Episode 9 \tmin: 1.52\tmax: 14.70\tmean: 6.46\tavg: 3.45\n",
      "Episode 10 \tmin: 5.22\tmax: 12.95\tmean: 7.91\tavg: 3.90\n",
      "Episode 11 \tmin: 2.91\tmax: 12.08\tmean: 7.50\tavg: 4.23\n",
      "Episode 12 \tmin: 3.32\tmax: 9.69\tmean: 7.06\tavg: 4.46\n",
      "Episode 13 \tmin: 5.50\tmax: 13.93\tmean: 9.31\tavg: 4.84\n",
      "Episode 14 \tmin: 6.54\tmax: 13.92\tmean: 10.47\tavg: 5.24\n",
      "Episode 15 \tmin: 4.57\tmax: 14.73\tmean: 10.39\tavg: 5.58\n",
      "Episode 16 \tmin: 7.46\tmax: 18.59\tmean: 12.04\tavg: 5.99\n",
      "Episode 17 \tmin: 8.92\tmax: 16.83\tmean: 12.77\tavg: 6.38\n",
      "Episode 18 \tmin: 8.60\tmax: 23.12\tmean: 13.75\tavg: 6.79\n",
      "Episode 19 \tmin: 8.21\tmax: 20.62\tmean: 13.93\tavg: 7.17\n",
      "Episode 20 \tmin: 8.86\tmax: 22.31\tmean: 16.48\tavg: 7.63\n",
      "Episode 21 \tmin: 10.67\tmax: 17.83\tmean: 14.83\tavg: 7.98\n",
      "Episode 22 \tmin: 12.63\tmax: 20.16\tmean: 17.43\tavg: 8.41\n",
      "Episode 23 \tmin: 8.76\tmax: 21.54\tmean: 15.38\tavg: 8.71\n",
      "Episode 24 \tmin: 7.98\tmax: 21.18\tmean: 16.01\tavg: 9.01\n",
      "Episode 25 \tmin: 10.47\tmax: 22.83\tmean: 16.96\tavg: 9.33\n",
      "Episode 26 \tmin: 2.66\tmax: 26.29\tmean: 19.32\tavg: 9.72\n",
      "Episode 27 \tmin: 12.04\tmax: 27.69\tmean: 22.70\tavg: 10.20\n",
      "Episode 28 \tmin: 11.00\tmax: 32.05\tmean: 22.27\tavg: 10.63\n",
      "Episode 29 \tmin: 10.15\tmax: 30.40\tmean: 20.75\tavg: 10.98\n",
      "Episode 30 \tmin: 10.28\tmax: 30.69\tmean: 20.90\tavg: 11.31\n",
      "Episode 31 \tmin: 13.18\tmax: 30.52\tmean: 23.11\tavg: 11.69\n",
      "Episode 32 \tmin: 13.54\tmax: 31.08\tmean: 26.30\tavg: 12.15\n",
      "Episode 33 \tmin: 13.24\tmax: 31.84\tmean: 24.46\tavg: 12.52\n",
      "Episode 34 \tmin: 18.58\tmax: 33.05\tmean: 25.83\tavg: 12.91\n",
      "Episode 35 \tmin: 15.44\tmax: 32.42\tmean: 26.83\tavg: 13.31\n",
      "Episode 36 \tmin: 15.22\tmax: 33.26\tmean: 26.48\tavg: 13.67\n",
      "Episode 37 \tmin: 16.92\tmax: 34.44\tmean: 27.40\tavg: 14.05\n",
      "Episode 38 \tmin: 21.43\tmax: 36.79\tmean: 27.66\tavg: 14.40\n",
      "Episode 39 \tmin: 22.51\tmax: 36.18\tmean: 29.85\tavg: 14.80\n",
      "Episode 40 \tmin: 25.15\tmax: 35.76\tmean: 29.96\tavg: 15.18\n",
      "Episode 41 \tmin: 26.53\tmax: 39.04\tmean: 32.58\tavg: 15.60\n",
      "Episode 42 \tmin: 18.65\tmax: 35.05\tmean: 30.47\tavg: 15.96\n",
      "Episode 43 \tmin: 25.97\tmax: 37.76\tmean: 32.01\tavg: 16.33\n",
      "Episode 44 \tmin: 19.29\tmax: 38.21\tmean: 31.30\tavg: 16.67\n",
      "Episode 45 \tmin: 29.92\tmax: 36.62\tmean: 32.85\tavg: 17.03\n",
      "Episode 46 \tmin: 29.56\tmax: 39.46\tmean: 34.83\tavg: 17.42\n",
      "Episode 47 \tmin: 25.21\tmax: 38.79\tmean: 35.11\tavg: 17.79\n",
      "Episode 48 \tmin: 27.32\tmax: 38.51\tmean: 35.83\tavg: 18.17\n",
      "Episode 49 \tmin: 31.95\tmax: 38.19\tmean: 35.65\tavg: 18.53\n",
      "Episode 50 \tmin: 31.41\tmax: 39.37\tmean: 36.63\tavg: 18.89\n",
      "Episode 51 \tmin: 30.71\tmax: 39.04\tmean: 36.14\tavg: 19.23\n",
      "Episode 52 \tmin: 34.14\tmax: 39.60\tmean: 37.59\tavg: 19.58\n",
      "Episode 53 \tmin: 34.51\tmax: 39.54\tmean: 37.17\tavg: 19.91\n",
      "Episode 54 \tmin: 30.38\tmax: 38.91\tmean: 36.20\tavg: 20.21\n",
      "Episode 55 \tmin: 30.73\tmax: 39.48\tmean: 35.46\tavg: 20.49\n",
      "Episode 56 \tmin: 34.54\tmax: 39.55\tmean: 37.98\tavg: 20.80\n",
      "Episode 57 \tmin: 33.65\tmax: 39.57\tmean: 37.52\tavg: 21.10\n",
      "Episode 58 \tmin: 33.73\tmax: 39.50\tmean: 37.82\tavg: 21.38\n",
      "Episode 59 \tmin: 34.88\tmax: 39.55\tmean: 37.53\tavg: 21.66\n",
      "Episode 60 \tmin: 34.94\tmax: 39.51\tmean: 37.87\tavg: 21.93\n",
      "Episode 61 \tmin: 35.36\tmax: 39.61\tmean: 37.98\tavg: 22.19\n",
      "Episode 62 \tmin: 36.60\tmax: 39.46\tmean: 38.36\tavg: 22.45\n",
      "Episode 63 \tmin: 34.18\tmax: 39.61\tmean: 37.93\tavg: 22.70\n",
      "Episode 64 \tmin: 33.49\tmax: 39.59\tmean: 38.03\tavg: 22.94\n",
      "Episode 65 \tmin: 34.74\tmax: 39.27\tmean: 37.96\tavg: 23.17\n",
      "Episode 66 \tmin: 36.28\tmax: 39.60\tmean: 38.37\tavg: 23.40\n",
      "Episode 67 \tmin: 36.68\tmax: 39.55\tmean: 38.36\tavg: 23.62\n",
      "Episode 68 \tmin: 36.75\tmax: 39.54\tmean: 38.21\tavg: 23.84\n",
      "Episode 69 \tmin: 37.55\tmax: 39.60\tmean: 38.84\tavg: 24.05\n",
      "Episode 70 \tmin: 36.40\tmax: 39.59\tmean: 38.25\tavg: 24.26\n",
      "Episode 71 \tmin: 34.88\tmax: 39.63\tmean: 38.71\tavg: 24.46\n",
      "Episode 72 \tmin: 32.25\tmax: 39.60\tmean: 38.43\tavg: 24.65\n",
      "Episode 73 \tmin: 33.29\tmax: 39.57\tmean: 37.65\tavg: 24.83\n",
      "Episode 74 \tmin: 34.74\tmax: 39.58\tmean: 38.50\tavg: 25.02\n",
      "Episode 75 \tmin: 33.20\tmax: 39.60\tmean: 38.23\tavg: 25.19\n",
      "Episode 76 \tmin: 30.60\tmax: 39.63\tmean: 38.56\tavg: 25.37\n",
      "Episode 77 \tmin: 36.52\tmax: 39.64\tmean: 38.56\tavg: 25.54\n",
      "Episode 78 \tmin: 35.08\tmax: 39.63\tmean: 38.36\tavg: 25.71\n",
      "Episode 79 \tmin: 35.63\tmax: 39.58\tmean: 38.52\tavg: 25.87\n",
      "Episode 80 \tmin: 36.38\tmax: 39.60\tmean: 38.18\tavg: 26.02\n",
      "Episode 81 \tmin: 34.97\tmax: 39.54\tmean: 38.13\tavg: 26.17\n",
      "Episode 82 \tmin: 35.39\tmax: 39.57\tmean: 37.92\tavg: 26.31\n",
      "Episode 83 \tmin: 31.64\tmax: 39.58\tmean: 38.13\tavg: 26.46\n",
      "Episode 84 \tmin: 36.47\tmax: 39.58\tmean: 38.81\tavg: 26.60\n",
      "Episode 85 \tmin: 35.67\tmax: 39.59\tmean: 38.64\tavg: 26.75\n",
      "Episode 86 \tmin: 34.28\tmax: 39.59\tmean: 38.67\tavg: 26.88\n",
      "Episode 87 \tmin: 35.60\tmax: 39.65\tmean: 38.45\tavg: 27.02\n",
      "Episode 88 \tmin: 35.84\tmax: 39.23\tmean: 38.17\tavg: 27.14\n",
      "Episode 89 \tmin: 34.50\tmax: 39.41\tmean: 38.26\tavg: 27.27\n",
      "Episode 90 \tmin: 35.14\tmax: 39.51\tmean: 38.38\tavg: 27.39\n",
      "Episode 91 \tmin: 36.86\tmax: 39.61\tmean: 38.39\tavg: 27.51\n",
      "Episode 92 \tmin: 34.39\tmax: 39.52\tmean: 38.16\tavg: 27.63\n",
      "Episode 93 \tmin: 35.37\tmax: 39.44\tmean: 38.30\tavg: 27.74\n",
      "Episode 94 \tmin: 31.95\tmax: 39.59\tmean: 37.39\tavg: 27.85\n",
      "Episode 95 \tmin: 35.98\tmax: 39.60\tmean: 37.85\tavg: 27.95\n",
      "Episode 96 \tmin: 34.84\tmax: 39.65\tmean: 38.36\tavg: 28.06\n",
      "Episode 97 \tmin: 37.51\tmax: 39.60\tmean: 38.63\tavg: 28.17\n",
      "Episode 98 \tmin: 35.32\tmax: 39.60\tmean: 37.92\tavg: 28.27\n",
      "Episode 99 \tmin: 29.54\tmax: 39.53\tmean: 36.02\tavg: 28.35\n",
      "Episode 100 \tmin: 34.05\tmax: 39.59\tmean: 37.73\tavg: 28.44\n",
      "Episode 101 \tmin: 33.61\tmax: 39.54\tmean: 37.19\tavg: 28.80\n",
      "Episode 102 \tmin: 33.42\tmax: 39.18\tmean: 37.81\tavg: 29.17\n",
      "Episode 103 \tmin: 27.94\tmax: 39.09\tmean: 36.85\tavg: 29.51\n",
      "Episode 104 \tmin: 31.54\tmax: 39.34\tmean: 36.91\tavg: 29.85\n",
      "Episode 105 \tmin: 33.96\tmax: 39.60\tmean: 37.46\tavg: 30.20\n",
      "\n",
      "solved in 105 episodes!\n"
     ]
    }
   ],
   "source": [
    "rundates= datetime.datetime.now().strftime('%Y%m%d_%H%M')\n",
    "agent = Agent(state_size=state_size , action_size=action_size, random_seed=42)\n",
    "mean_sc, avg_sc_last_episodes, dfscores_episode = ddpg()"
   ]
  },
  {
   "cell_type": "code",
   "execution_count": 14,
   "metadata": {
    "scrolled": true
   },
   "outputs": [
    {
     "data": {
      "image/png": "[encoded data removed]",
      "text/plain": [
       "<matplotlib.figure.Figure at 0x7f36227467f0>"
      ]
     },
     "metadata": {
      "needs_background": "light"
     },
     "output_type": "display_data"
    },
    {
     "data": {
      "text/plain": [
       "<matplotlib.figure.Figure at 0x7f3618ece0f0>"
      ]
     },
     "metadata": {},
     "output_type": "display_data"
    }
   ],
   "source": [
    "fig = plt.figure()\n",
    "ax = fig.add_subplot(111)\n",
    "plt.plot(np.arange(len(mean_sc)), mean_sc)\n",
    "plt.plot(np.arange(len(mean_sc)), avg_sc_last_episodes)\n",
    "plt.ylabel('Score')\n",
    "plt.xlabel('Episode')\n",
    "plt.show()\n",
    "plt.savefig(\"results.png\")"
   ]
  }
 ],
 "metadata": {
  "kernelspec": {
   "display_name": "Python 3",
   "language": "python",
   "name": "python3"
  },
  "language_info": {
   "codemirror_mode": {
    "name": "ipython",
    "version": 3
   },
   "file_extension": ".py",
   "mimetype": "text/x-python",
   "name": "python",
   "nbconvert_exporter": "python",
   "pygments_lexer": "ipython3",
   "version": "3.6.3"
  }
 },
 "nbformat": 4,
 "nbformat_minor": 2
}
